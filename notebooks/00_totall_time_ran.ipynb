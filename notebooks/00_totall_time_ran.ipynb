{
 "cells": [
  {
   "cell_type": "markdown",
   "id": "67ee14b5-bb3e-4296-ab59-ebd8114b6978",
   "metadata": {},
   "source": [
    "# Notebook 00 : Total time running BuildJet per month under lf-edge repository\n",
    "\n",
    "Scope of this notebook is to calculate total minutes used by BuildJet runners. \n",
    "This notebook provides step by step calculation with each assumption on which calculation\n",
    "was based.\n",
    "\n",
    "If you want to run it, you should install requirements.txt"
   ]
  },
  {
   "cell_type": "code",
   "execution_count": 55,
   "id": "820b9fa1-9f06-41db-9d3e-b5e2f840ffb7",
   "metadata": {},
   "outputs": [],
   "source": [
    "DATA_CACHED = True"
   ]
  },
  {
   "cell_type": "code",
   "execution_count": 1,
   "id": "ad4df20d-35e8-49b3-9f0b-9ff50829f909",
   "metadata": {},
   "outputs": [],
   "source": [
    "%load_ext autoreload\n",
    "%autoreload 2"
   ]
  },
  {
   "cell_type": "code",
   "execution_count": 2,
   "id": "00c4354d-9711-4785-8140-26cd1804c118",
   "metadata": {},
   "outputs": [],
   "source": [
    "import sys\n",
    "import os\n",
    "\n",
    "# Get the current working directory\n",
    "current_dir = os.getcwd()\n",
    "\n",
    "# Get the parent directory\n",
    "parent_dir = os.path.abspath(os.path.join(current_dir, '..'))\n",
    "\n",
    "# Add the parent directory to sys.path\n",
    "if parent_dir not in sys.path:\n",
    "    sys.path.insert(0, parent_dir)\n",
    "\n",
    "\n",
    "# .env file should contain GHA_TOKEN variable which\n",
    "# is access token for GitHub (generated per user)\n",
    "from dotenv import load_dotenv\n",
    "\n",
    "from src.gha import GitHubActionsAPI, GitHubWorkflowStat, duration_time"
   ]
  },
  {
   "cell_type": "code",
   "execution_count": 3,
   "id": "48a68255-9605-4521-b3e4-03f0a1f80768",
   "metadata": {},
   "outputs": [
    {
     "data": {
      "text/plain": [
       "True"
      ]
     },
     "execution_count": 3,
     "metadata": {},
     "output_type": "execute_result"
    }
   ],
   "source": [
    "load_dotenv()"
   ]
  },
  {
   "cell_type": "markdown",
   "id": "ac9616d2-c49e-43a8-bb9f-f155c1227aee",
   "metadata": {},
   "source": [
    "### Step 1: determening workflows using specific runners\n",
    "\n",
    "**Assumption 1:** only `lf-edge/eve` and `lf-edge/eden` are using BuildJet runners\n",
    "\n",
    "**Assumption 2:** within `lf-edge/eve` only `build.yml`, `buildondemand.yml` and `eden.yml` are using BuildJet  \n",
    "\n",
    "**Assumption 3:** within `lf-edge/eden` only `test.yml` and `eden.yml` is using BuildJet runners\n",
    "\n",
    "This can be easily checked by running \n",
    "\n",
    "```bash\n",
    "grep -nirl \"buildjet\" .github\n",
    "```\n",
    "\n",
    "for each lf-edge repository"
   ]
  },
  {
   "cell_type": "markdown",
   "id": "a2ff710b-2228-465c-9f4d-7ce8a8d9b1f7",
   "metadata": {},
   "source": [
    "### Step 2: calculating time spent on each workflow from GitHub API\n",
    "\n",
    "GitHub provides REST API to access workflow information, some of this information is also seen on web page.\n",
    "Full description of available endpoints and data schema can be found [here](https://docs.github.com/en/rest/actions/workflow-runs?apiVersion=2022-11-28), so that leads us to\n",
    "\n",
    "**Assumption 4:** We can get all the runs from GitHub by calling `https://api.github.com/lf-edge/{eve,eden}/actions/runs`\n",
    "\n",
    "Although, GitHub does not provide detailed description we can find multiple fields of interest: `created_at`, `updated_at`, `run_started_at`. Latter resets every re-run, each re-run is its own entity linked through other fields, therefore \n",
    "\n",
    "**Assumption 5:** Duration of a run can be calculated as `updated_at` - `run_started_at`\n",
    "\n",
    "Based on Assumptions 1-5 `GitHubActionsAPI` and `GitHubWorkflowStat` classes in gha module of src package calculate following total number of minutes for each workflow:\n",
    "\n",
    "**Note:** Skip this step if you want to use cached data"
   ]
  },
  {
   "cell_type": "code",
   "execution_count": null,
   "id": "9696ae2c-7503-4142-8e0b-c118011e4a6e",
   "metadata": {},
   "outputs": [],
   "source": [
    "from ipywidgets import IntProgress\n",
    "from IPython.display import display\n",
    "import math"
   ]
  },
  {
   "cell_type": "code",
   "execution_count": 5,
   "id": "a8e115e1-9e23-4541-9a6c-233eb71e651f",
   "metadata": {},
   "outputs": [
    {
     "data": {
      "application/vnd.jupyter.widget-view+json": {
       "model_id": "9ca695d0d6e544d3b28bdb2794608be7",
       "version_major": 2,
       "version_minor": 0
      },
      "text/plain": [
       "IntProgress(value=1, max=234, min=1)"
      ]
     },
     "metadata": {},
     "output_type": "display_data"
    },
    {
     "name": "stdout",
     "output_type": "stream",
     "text": [
      "In total we have 8265 workflows\n"
     ]
    }
   ],
   "source": [
    "# Downloading and filtering only workflows, this might take time\n",
    "# progress bar is for convinience :)\n",
    "\n",
    "if not DATA_CACHED:\n",
    "    base_url = \"https://api.github.com\"\n",
    "    org = \"lf-edge\"\n",
    "    repo = \"eve\"\n",
    "    access_token = os.getenv(\"GHA_TOKEN\")\n",
    "    \n",
    "    gha = GitHubActionsAPI(base_url, org, repo, access_token)\n",
    "    \n",
    "    per_page = 100 # maximum for GitHub API\n",
    "    pages = gha.page_count(per_page)\n",
    "    eden_workflows = []\n",
    "    \n",
    "    f = IntProgress(min=1, max=pages) # instantiate the bar\n",
    "    display(f) # display the bar\n",
    "    \n",
    "    for i in range(1, pages+1):\n",
    "        workflows = gha.load_workflows(i, per_page)\n",
    "        for workflow in workflows:\n",
    "            wfs = ['.github/workflows/eden.yml', '.github/workflows/build.yml', '.github/workflows/buildondemand.yml']\n",
    "            if any(wf in workflow['path'] for wf in wfs):\n",
    "                eden_workflows.append(workflow)\n",
    "    \n",
    "        f.value += 1\n",
    "    \n",
    "    print(f\"In total we have {len(eden_workflows)} workflows\")\n",
    "    \n",
    "    for wf in eden_workflows:\n",
    "        wf['duration'] = math.ceil(duration_time(wf).seconds / 60)\n",
    "    \n",
    "    wf_stat = GitHubWorkflowStat(eden_workflows)\n",
    "    ## Cache data to save time for future runs :)\n",
    "    wf_stat.save(\"../data/intermediate/eve_workflows.json\")"
   ]
  },
  {
   "cell_type": "code",
   "execution_count": 17,
   "id": "bf639210-8c60-46e3-a0a8-6436fb480a35",
   "metadata": {},
   "outputs": [
    {
     "data": {
      "application/vnd.jupyter.widget-view+json": {
       "model_id": "c44b2ec09e7f43238f992b8b751c9b22",
       "version_major": 2,
       "version_minor": 0
      },
      "text/plain": [
       "IntProgress(value=1, max=26, min=1)"
      ]
     },
     "metadata": {},
     "output_type": "display_data"
    },
    {
     "name": "stdout",
     "output_type": "stream",
     "text": [
      "In total we have 501 workflows\n"
     ]
    }
   ],
   "source": [
    "# Doing same action only for eden repository\n",
    "if not DATA_CACHED:\n",
    "    base_url = \"https://api.github.com\"\n",
    "    org = \"lf-edge\"\n",
    "    repo = \"eden\"\n",
    "    access_token = os.getenv(\"GHA_TOKEN\")\n",
    "    \n",
    "    gha = GitHubActionsAPI(base_url, org, repo, access_token)\n",
    "    \n",
    "    per_page = 100 # maximum for GitHub API\n",
    "    pages = gha.page_count(per_page)\n",
    "    eden_workflows = []\n",
    "    \n",
    "    f = IntProgress(min=1, max=pages) # instantiate the bar\n",
    "    display(f) # display the bar\n",
    "    \n",
    "    for i in range(1, pages+1):\n",
    "        workflows = gha.load_workflows(i, per_page)\n",
    "        for workflow in workflows:\n",
    "            wfs = ['.github/workflows/test.yml', '.github/workflows/eden.yml']\n",
    "            if any(wf in workflow['path'] for wf in wfs):\n",
    "                eden_workflows.append(workflow)\n",
    "    \n",
    "        f.value += 1\n",
    "    \n",
    "    print(f\"In total we have {len(eden_workflows)} workflows\")\n",
    "    \n",
    "    for wf in eden_workflows:\n",
    "        wf['duration'] = math.ceil(duration_time(wf).seconds / 60)\n",
    "    \n",
    "    wf_eden_stat = GitHubWorkflowStat(eden_workflows)\n",
    "    ## Cache data to save time for future runs :)\n",
    "    wf_eden_stat.save(\"../data/intermediate/eden_workflows.json\")"
   ]
  },
  {
   "cell_type": "markdown",
   "id": "b216f384-db0e-49f5-ab90-4f5d26886980",
   "metadata": {},
   "source": [
    "### Step 3: Combining workflows together as pandas DataFrame\n",
    "\n",
    "**Assumption 6:** skipped workflwos do not add to used time"
   ]
  },
  {
   "cell_type": "code",
   "execution_count": 49,
   "id": "f66a08c1-34bd-40f9-bbec-e8efbb5cebae",
   "metadata": {},
   "outputs": [],
   "source": [
    "import pandas as pd"
   ]
  },
  {
   "cell_type": "code",
   "execution_count": 52,
   "id": "f5d0fdce-5ac5-4932-acbe-63122dc3344a",
   "metadata": {},
   "outputs": [],
   "source": [
    "# Run this step if you have and want to use cached data\n",
    "\n",
    "if DATA_CACHED:\n",
    "    wf_eden_stat = GitHubWorkflowStat(None)\n",
    "    wf_eden_stat.load(\"../data/intermediate/eden_workflows.json\")\n",
    "    \n",
    "    wf_stat = GitHubWorkflowStat(None)\n",
    "    wf_stat.load(\"../data/intermediate/eve_workflows.json\")"
   ]
  },
  {
   "cell_type": "code",
   "execution_count": 25,
   "id": "4170bde6-d578-46f0-8cbc-fe3684034731",
   "metadata": {},
   "outputs": [
    {
     "name": "stderr",
     "output_type": "stream",
     "text": [
      "/tmp/ipykernel_29660/1060244116.py:17: SettingWithCopyWarning: \n",
      "A value is trying to be set on a copy of a slice from a DataFrame.\n",
      "Try using .loc[row_indexer,col_indexer] = value instead\n",
      "\n",
      "See the caveats in the documentation: https://pandas.pydata.org/pandas-docs/stable/user_guide/indexing.html#returning-a-view-versus-a-copy\n",
      "  actual_workflows['year'] = actual_workflows.created_at.dt.year\n",
      "/tmp/ipykernel_29660/1060244116.py:18: SettingWithCopyWarning: \n",
      "A value is trying to be set on a copy of a slice from a DataFrame.\n",
      "Try using .loc[row_indexer,col_indexer] = value instead\n",
      "\n",
      "See the caveats in the documentation: https://pandas.pydata.org/pandas-docs/stable/user_guide/indexing.html#returning-a-view-versus-a-copy\n",
      "  actual_workflows['month'] = actual_workflows.created_at.dt.month\n",
      "/tmp/ipykernel_29660/1060244116.py:19: SettingWithCopyWarning: \n",
      "A value is trying to be set on a copy of a slice from a DataFrame.\n",
      "Try using .loc[row_indexer,col_indexer] = value instead\n",
      "\n",
      "See the caveats in the documentation: https://pandas.pydata.org/pandas-docs/stable/user_guide/indexing.html#returning-a-view-versus-a-copy\n",
      "  actual_workflows['day'] = actual_workflows.created_at.dt.day\n",
      "/tmp/ipykernel_29660/1060244116.py:20: SettingWithCopyWarning: \n",
      "A value is trying to be set on a copy of a slice from a DataFrame.\n",
      "Try using .loc[row_indexer,col_indexer] = value instead\n",
      "\n",
      "See the caveats in the documentation: https://pandas.pydata.org/pandas-docs/stable/user_guide/indexing.html#returning-a-view-versus-a-copy\n",
      "  actual_workflows['qtr'] = actual_workflows.created_at.dt.quarter\n"
     ]
    }
   ],
   "source": [
    "fields = ['conclusion', 'run_attempt', 'duration', 'created_at']\n",
    "\n",
    "df1 = pd.DataFrame(wf_stat.pick(fields), columns=fields)\n",
    "df1['repo'] = 'EVE'\n",
    "df2 = pd.DataFrame(wf_eden_stat.pick(fields), columns=fields)\n",
    "df2['repo'] = 'Eden'\n",
    "df = pd.concat([df1, df2], axis=0)\n",
    "\n",
    "df.created_at = pd.to_datetime(df.created_at)\n",
    "df['year'] = df.created_at.dt.year\n",
    "df['month'] = df.created_at.dt.month\n",
    "# skipped workflows do not add to used time\n",
    "actual_workflows = df[df.conclusion != 'skipped']\n",
    "\n",
    "actual_workflows['year'] = actual_workflows.created_at.dt.year\n",
    "actual_workflows['month'] = actual_workflows.created_at.dt.month\n",
    "actual_workflows['day'] = actual_workflows.created_at.dt.day\n",
    "actual_workflows['qtr'] = actual_workflows.created_at.dt.quarter"
   ]
  },
  {
   "cell_type": "markdown",
   "id": "4d72898d-065d-4a7f-b6ea-d882eb0c78d5",
   "metadata": {},
   "source": [
    "## Step 4: Calculating time spent totall in minutes monthly"
   ]
  },
  {
   "cell_type": "code",
   "execution_count": 20,
   "id": "f0f72e10-7f99-412e-b1d3-56aeca5ad5e0",
   "metadata": {},
   "outputs": [],
   "source": [
    "import seaborn as sns"
   ]
  },
  {
   "cell_type": "code",
   "execution_count": 47,
   "id": "9324d498-eeee-45e8-ae40-cd10e6d919c3",
   "metadata": {},
   "outputs": [
    {
     "data": {
      "text/plain": [
       "[Text(0, 0.5, 'duration (min)')]"
      ]
     },
     "execution_count": 47,
     "metadata": {},
     "output_type": "execute_result"
    },
    {
     "data": {
      "image/png": "[encoded data removed]",
      "text/plain": [
       "<Figure size 640x480 with 1 Axes>"
      ]
     },
     "metadata": {},
     "output_type": "display_data"
    }
   ],
   "source": [
    "grouped = actual_workflows.groupby(['repo', 'year', 'month'])['duration'].sum().reset_index()\n",
    "fig = sns.lineplot(data=grouped[grouped.year == 2024], x='month', y='duration', hue='repo')\n",
    "\n",
    "fig.set_title(\"Usage by repo for 2024\")\n",
    "fig.set(ylabel='duration (min)')"
   ]
  },
  {
   "cell_type": "markdown",
   "id": "f6fecf88-98e2-4f9c-a200-6ca64361fa13",
   "metadata": {},
   "source": [
    "Now let's see total duration by repo by year and quarter in a table"
   ]
  },
  {
   "cell_type": "code",
   "execution_count": 27,
   "id": "ab4c9d2f-38d2-4a84-95b3-773126f1cfd3",
   "metadata": {},
   "outputs": [
    {
     "data": {
      "text/plain": [
       "repo  year  qtr\n",
       "EVE   2023  2      151635\n",
       "            3      164427\n",
       "            4      113868\n",
       "      2024  1       36307\n",
       "            2       45359\n",
       "            3       10982\n",
       "Eden  2023  2       17354\n",
       "            3       18615\n",
       "            4       22479\n",
       "      2024  1        3633\n",
       "            2       12410\n",
       "            3        1771\n",
       "Name: duration, dtype: int64"
      ]
     },
     "execution_count": 27,
     "metadata": {},
     "output_type": "execute_result"
    }
   ],
   "source": [
    "actual_workflows.groupby(['repo', 'year', 'qtr'])['duration'].sum()"
   ]
  },
  {
   "cell_type": "markdown",
   "id": "45702382-271e-45c5-bd2e-ef012d741b14",
   "metadata": {},
   "source": [
    "Same, but now for each month of the year"
   ]
  },
  {
   "cell_type": "code",
   "execution_count": 28,
   "id": "29103426-e61c-4503-8e6a-46eb59028ad5",
   "metadata": {},
   "outputs": [
    {
     "data": {
      "text/plain": [
       "repo  year  month\n",
       "EVE   2023  5        113675\n",
       "            6         37960\n",
       "            7         70069\n",
       "            8         62144\n",
       "            9         32214\n",
       "            10        31222\n",
       "            11        74144\n",
       "            12         8502\n",
       "      2024  1         10456\n",
       "            2         14063\n",
       "            3         11788\n",
       "            4         11250\n",
       "            5         15770\n",
       "            6         18339\n",
       "            7         10982\n",
       "Eden  2023  5          5723\n",
       "            6         11631\n",
       "            7         11118\n",
       "            8          4010\n",
       "            9          3487\n",
       "            10        12884\n",
       "            11         8377\n",
       "            12         1218\n",
       "      2024  1          2487\n",
       "            2           696\n",
       "            3           450\n",
       "            4           311\n",
       "            5          1877\n",
       "            6         10222\n",
       "            7          1771\n",
       "Name: duration, dtype: int64"
      ]
     },
     "execution_count": 28,
     "metadata": {},
     "output_type": "execute_result"
    }
   ],
   "source": [
    "actual_workflows.groupby(['repo', 'year', 'month'])['duration'].sum()"
   ]
  },
  {
   "cell_type": "markdown",
   "id": "ccf03cb0-885b-4556-b9b6-c76a01cd9681",
   "metadata": {},
   "source": [
    "### Extra: calculate running time for a specific timeframe"
   ]
  },
  {
   "cell_type": "code",
   "execution_count": 23,
   "id": "a07d24e9-cdaa-4d8f-8314-8f3baaf82ad2",
   "metadata": {},
   "outputs": [
    {
     "name": "stdout",
     "output_type": "stream",
     "text": [
      "12946\n"
     ]
    }
   ],
   "source": [
    "from datetime import date\n",
    "\n",
    "from_mask = df.created_at.dt.date >= date(year=2024,month=6,day=30)\n",
    "to_mask = df.created_at.dt.date <= date(year=2024, month=7, day=31)\n",
    "\n",
    "actual_running_time = df[from_mask & to_mask].duration.sum()\n",
    "\n",
    "print(actual_running_time)"
   ]
  }
 ],
 "metadata": {
  "kernelspec": {
   "display_name": "Python 3 (ipykernel)",
   "language": "python",
   "name": "python3"
  },
  "language_info": {
   "codemirror_mode": {
    "name": "ipython",
    "version": 3
   },
   "file_extension": ".py",
   "mimetype": "text/x-python",
   "name": "python",
   "nbconvert_exporter": "python",
   "pygments_lexer": "ipython3",
   "version": "3.12.4"
  }
 },
 "nbformat": 4,
 "nbformat_minor": 5
}
